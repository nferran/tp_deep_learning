{
  "nbformat": 4,
  "nbformat_minor": 0,
  "metadata": {
    "colab": {
      "provenance": [],
      "gpuType": "T4"
    },
    "kernelspec": {
      "name": "python3",
      "display_name": "Python 3"
    },
    "language_info": {
      "name": "python"
    },
    "accelerator": "GPU"
  },
  "cells": [
    {
      "cell_type": "markdown",
      "source": [
        "\n",
        "# Universidad de Buenos Aires\n",
        "# Deep Learning - Examen - Parte 2\n",
        "# Diciembre 2023\n"
      ],
      "metadata": {
        "id": "bm6z-kS8vmfn"
      }
    },
    {
      "cell_type": "markdown",
      "source": [
        "El TP comienza al momento de recibir este correo y la ventana de entrega estará abierta hasta el Domingo 24 de diciembre. La resolución es individual. Pueden utilizar los contenidos vistos en clase y otra bibliografía. Si se toman ideas de fuentes externas deben ser correctamente citas incluyendo el correspondiente link o página de libro.\n",
        "\n",
        "El formato de entrega debe ser un “link a un colab” (compartir a las siguientes direcciones: maxit1992@gmail.com y lelectronfou@gmail.com). Tanto los resultados, como el código y las explicaciones deben quedar guardados y visualizables en el colab.\n",
        "\n",
        "**Consideraciones a tener en cuenta:**\n",
        "- Se entregará 1 solo colab para la totalidad del examen.\n",
        "- Renombrar el archivo de la siguiente manera: **APELLIDO-NOMBRE-DL-Examen AGOSTO 2023.ipynb**\n",
        "- Los códigos deben poder ejecutarse.\n",
        "- Los resultados, cómo el código y las explicaciones deben quedar guardados y visualizables en el correspondiente link.\n",
        "- Prestar atención a las consignas, responder las preguntas cuando corresponda."
      ],
      "metadata": {
        "id": "4Z9ecZHdv0lH"
      }
    },
    {
      "cell_type": "markdown",
      "source": [
        "## Parte 2.a\n",
        "\n",
        "Implemente una arquitectura de red neuronal basada en CNN para identificar del dataset fashion MNIST las 10 clases del mismo. Sobre dicho modelo, realize una exploración de 5 variantes distintas (que se desprenden del modelo propuesto) variando alguno (o varios) de los siguientes hiperparámetros\n",
        "- numero de capas.\n",
        "- numero de kernels.\n",
        "- tamaño de kernels.\n",
        "\n",
        "\n",
        "a) Evalue la evolución de la función de perdida y la accuracy (para train y test) para cada modelo y elija el que considera mejor.\n",
        "\n",
        "b) Al mejor modelo, aplique capas de dropout para ver si puede mejorar sus métricas.\n",
        "\n"
      ],
      "metadata": {
        "id": "-6LncA6WwfhQ"
      }
    },
    {
      "cell_type": "code",
      "execution_count": 1,
      "metadata": {
        "id": "srwTqvY7fKk2"
      },
      "outputs": [],
      "source": [
        "import torch\n",
        "from torch import nn\n",
        "from torch.utils.data import DataLoader\n",
        "from torchvision import datasets\n",
        "from torchvision.transforms import ToTensor"
      ]
    },
    {
      "cell_type": "code",
      "source": [
        "# Download train data from open datasets.\n",
        "train_data= datasets.FashionMNIST(root= 'data', train= True, download= True, transform= ToTensor(),)\n",
        "\n",
        "# Download test data from open datsets.\n",
        "test_data= datasets.FashionMNIST(root= 'data', train= False, download= True, transform= ToTensor(),)\n"
      ],
      "metadata": {
        "colab": {
          "base_uri": "https://localhost:8080/"
        },
        "id": "xNGscXTPfVNZ",
        "outputId": "6ec104f5-c38d-4179-8618-9706ccee8e31"
      },
      "execution_count": 2,
      "outputs": [
        {
          "output_type": "stream",
          "name": "stdout",
          "text": [
            "Downloading http://fashion-mnist.s3-website.eu-central-1.amazonaws.com/train-images-idx3-ubyte.gz\n",
            "Downloading http://fashion-mnist.s3-website.eu-central-1.amazonaws.com/train-images-idx3-ubyte.gz to data/FashionMNIST/raw/train-images-idx3-ubyte.gz\n"
          ]
        },
        {
          "output_type": "stream",
          "name": "stderr",
          "text": [
            "100%|██████████| 26421880/26421880 [00:02<00:00, 9184368.95it/s] \n"
          ]
        },
        {
          "output_type": "stream",
          "name": "stdout",
          "text": [
            "Extracting data/FashionMNIST/raw/train-images-idx3-ubyte.gz to data/FashionMNIST/raw\n",
            "\n",
            "Downloading http://fashion-mnist.s3-website.eu-central-1.amazonaws.com/train-labels-idx1-ubyte.gz\n",
            "Downloading http://fashion-mnist.s3-website.eu-central-1.amazonaws.com/train-labels-idx1-ubyte.gz to data/FashionMNIST/raw/train-labels-idx1-ubyte.gz\n"
          ]
        },
        {
          "output_type": "stream",
          "name": "stderr",
          "text": [
            "100%|██████████| 29515/29515 [00:00<00:00, 172938.22it/s]\n"
          ]
        },
        {
          "output_type": "stream",
          "name": "stdout",
          "text": [
            "Extracting data/FashionMNIST/raw/train-labels-idx1-ubyte.gz to data/FashionMNIST/raw\n",
            "\n",
            "Downloading http://fashion-mnist.s3-website.eu-central-1.amazonaws.com/t10k-images-idx3-ubyte.gz\n",
            "Downloading http://fashion-mnist.s3-website.eu-central-1.amazonaws.com/t10k-images-idx3-ubyte.gz to data/FashionMNIST/raw/t10k-images-idx3-ubyte.gz\n"
          ]
        },
        {
          "output_type": "stream",
          "name": "stderr",
          "text": [
            "100%|██████████| 4422102/4422102 [00:01<00:00, 3205839.92it/s]\n"
          ]
        },
        {
          "output_type": "stream",
          "name": "stdout",
          "text": [
            "Extracting data/FashionMNIST/raw/t10k-images-idx3-ubyte.gz to data/FashionMNIST/raw\n",
            "\n",
            "Downloading http://fashion-mnist.s3-website.eu-central-1.amazonaws.com/t10k-labels-idx1-ubyte.gz\n",
            "Downloading http://fashion-mnist.s3-website.eu-central-1.amazonaws.com/t10k-labels-idx1-ubyte.gz to data/FashionMNIST/raw/t10k-labels-idx1-ubyte.gz\n"
          ]
        },
        {
          "output_type": "stream",
          "name": "stderr",
          "text": [
            "100%|██████████| 5148/5148 [00:00<00:00, 18376405.95it/s]\n"
          ]
        },
        {
          "output_type": "stream",
          "name": "stdout",
          "text": [
            "Extracting data/FashionMNIST/raw/t10k-labels-idx1-ubyte.gz to data/FashionMNIST/raw\n",
            "\n"
          ]
        }
      ]
    },
    {
      "cell_type": "code",
      "source": [
        "import matplotlib.pyplot as plt\n",
        "\n",
        "labels_map={\n",
        "    0: 'T-shirt',\n",
        "    1: 'Trouser',\n",
        "    2: 'Pullover',\n",
        "    3: 'Dress',\n",
        "    4: 'Coat',\n",
        "    5: 'Sandal',\n",
        "    6: 'Shirt',\n",
        "    7: 'Sneaker',\n",
        "    8: 'Bag',\n",
        "    9: 'Ankle Boot',\n",
        "}\n",
        "\n",
        "figure = plt.figure(figsize = (10,10))\n",
        "cols, rows = 3, 3\n",
        "\n",
        "for i in range (1, cols*rows + 1):\n",
        "    sample_idx = torch.randint(len(train_data), size = (1,)).item()\n",
        "    image, label = train_data[sample_idx]\n",
        "    figure.add_subplot(rows, cols, i)\n",
        "    plt.title(labels_map[label])\n",
        "    plt.axis('off')\n",
        "    plt.imshow(image.squeeze(), cmap='gray')\n",
        "plt.show()"
      ],
      "metadata": {
        "colab": {
          "base_uri": "https://localhost:8080/",
          "height": 829
        },
        "id": "9mZXNPCQfbEU",
        "outputId": "2c61d202-928c-44cb-dc0b-2906c8171476"
      },
      "execution_count": 3,
      "outputs": [
        {
          "output_type": "display_data",
          "data": {
            "text/plain": [
              "<Figure size 1000x1000 with 9 Axes>"
            ],
            "image/png": "[encoded data removed]"
          },
          "metadata": {}
        }
      ]
    },
    {
      "cell_type": "code",
      "source": [
        "device = \"cuda\" if torch.cuda.is_available() else \"cpu\""
      ],
      "metadata": {
        "id": "6n1x3Okukgdj"
      },
      "execution_count": 5,
      "outputs": []
    },
    {
      "cell_type": "code",
      "source": [
        "dataloader = {\n",
        "    'train': torch.utils.data.DataLoader(train_data, batch_size=64, shuffle=True, pin_memory=True),\n",
        "    'test': torch.utils.data.DataLoader(test_data, batch_size=64, shuffle=False, pin_memory=True)\n",
        "}"
      ],
      "metadata": {
        "id": "PWhInawBhdIE"
      },
      "execution_count": 4,
      "outputs": []
    },
    {
      "cell_type": "code",
      "source": [
        "print(type(dataloader))\n",
        "print(type(dataloader['train']))"
      ],
      "metadata": {
        "id": "2JIZU3K5kazG",
        "outputId": "339d3757-6a36-4f9d-a0ad-d44047ea231c",
        "colab": {
          "base_uri": "https://localhost:8080/"
        }
      },
      "execution_count": 6,
      "outputs": [
        {
          "output_type": "stream",
          "name": "stdout",
          "text": [
            "<class 'dict'>\n",
            "<class 'torch.utils.data.dataloader.DataLoader'>\n"
          ]
        }
      ]
    },
    {
      "cell_type": "code",
      "source": [
        "train_features, train_labels = next(iter(dataloader['train']))"
      ],
      "metadata": {
        "id": "YovJkDZ2k2d6"
      },
      "execution_count": 7,
      "outputs": []
    },
    {
      "cell_type": "code",
      "source": [
        "# verifico sus dimensiones\n",
        "print(f\"Tamaño del batch de feature (input / imagen): {train_features.size()}\")\n",
        "print(f\"Tamaño del batch del label (clase / etiqueta): {train_labels.size()}\")\n",
        "\n",
        "# tomo 1 imagen para poder visualizarla\n",
        "# y verifico sus dimensiones\n",
        "\n",
        "img = train_features[22]\n",
        "print('tamaño de 1 imagen: ', img.shape)\n",
        "# le QUITO 1 dimension (la del tamaño del batch) para poder graficar\n",
        "img = img.squeeze()\n",
        "print('tamaño de 1 imagen DESPUES de squeeze: ', img.shape)\n",
        "label = train_labels[22]\n",
        "\n",
        "# ploteo esa imagen\n",
        "plt.imshow(img, cmap=\"gray\")\n",
        "plt.show()\n",
        "print(f\"Label: {label}\")"
      ],
      "metadata": {
        "id": "amSRsbI7k7RL",
        "outputId": "79dba2f8-1ed4-4dc0-ae3d-4e157dcdacec",
        "colab": {
          "base_uri": "https://localhost:8080/",
          "height": 520
        }
      },
      "execution_count": 8,
      "outputs": [
        {
          "output_type": "stream",
          "name": "stdout",
          "text": [
            "Tamaño del batch de feature (input / imagen): torch.Size([64, 1, 28, 28])\n",
            "Tamaño del batch del label (clase / etiqueta): torch.Size([64])\n",
            "tamaño de 1 imagen:  torch.Size([1, 28, 28])\n",
            "tamaño de 1 imagen DESPUES de squeeze:  torch.Size([28, 28])\n"
          ]
        },
        {
          "output_type": "display_data",
          "data": {
            "text/plain": [
              "<Figure size 640x480 with 1 Axes>"
            ],
            "image/png": "[encoded data removed]"
          },
          "metadata": {}
        },
        {
          "output_type": "stream",
          "name": "stdout",
          "text": [
            "Label: 8\n"
          ]
        }
      ]
    },
    {
      "cell_type": "code",
      "source": [
        "print('pixel [0,0]: ',img[0][0])\n",
        "print('pixel maximo: ', torch.max(img))\n",
        "print('pixel minimo: ', torch.min(img))"
      ],
      "metadata": {
        "id": "BPEJcVkPlHdr",
        "outputId": "48eb8a5b-07c1-4f9e-c9df-b2bf837eb90e",
        "colab": {
          "base_uri": "https://localhost:8080/"
        }
      },
      "execution_count": 9,
      "outputs": [
        {
          "output_type": "stream",
          "name": "stdout",
          "text": [
            "pixel [0,0]:  tensor(0.)\n",
            "pixel maximo:  tensor(1.)\n",
            "pixel minimo:  tensor(0.)\n"
          ]
        }
      ]
    },
    {
      "cell_type": "code",
      "source": [
        "# bloque de convolución para emplear en mi red\n",
        "\n",
        "def conv_block(c_in, c_out, k=5, p=2, s=1, pk=3, ps=2, pp=1):\n",
        "    return torch.nn.Sequential(\n",
        "        torch.nn.Conv2d(c_in, c_out, k, padding=p, stride=s), # conv\n",
        "        torch.nn.Tanh(),                                      # activation\n",
        "        torch.nn.MaxPool2d(pk, stride=ps, padding=pp)         # pooling\n",
        "    )\n"
      ],
      "metadata": {
        "id": "f-UdpBGBlKeg"
      },
      "execution_count": 10,
      "outputs": []
    },
    {
      "cell_type": "code",
      "source": [
        "class CNN(torch.nn.Module):\n",
        "  def __init__(self, n_channels=1, n_outputs=10):\n",
        "    super().__init__()\n",
        "    self.conv1 = conv_block(n_channels, 8)\n",
        "    self.conv1_out = None\n",
        "    self.conv2 = conv_block(8, 16)\n",
        "    self.conv2_out = None\n",
        "    self.conv3 = conv_block(16, 32)\n",
        "    self.conv3_out = None\n",
        "    # self.conv4 = conv_block(128, 128)\n",
        "    # self.conv4_out = None\n",
        "    self.fc = torch.nn.Linear(512, n_outputs) # verificar la dim de la salida para calcular el tamaño de la fully conected!!\n",
        "    self.sm = torch.nn.Softmax(dim=1)\n",
        "\n",
        "\n",
        "    print('Red creada')\n",
        "    print('arquitectura:')\n",
        "    print(self)\n",
        "\n",
        "    # Me fijo en el número de capas\n",
        "    i=0\n",
        "    for layer in self.children():\n",
        "        i=i+1\n",
        "    print('Número total de capas de CNN (conv+act+polling) + finales : ', i)\n",
        "\n",
        "    # Me fijo en el número de parámetros entrenables\n",
        "    pytorch_total_params = sum(p.numel() for p in self.parameters() if p.requires_grad)\n",
        "    print('Número total de parámetros a entrenar: ', pytorch_total_params)\n",
        "\n",
        "  def validar_dim(self):\n",
        "    # es una funcion \"forward\" que imprime la dimension de cada paso\n",
        "    # la defino distinto de la forward standard para que cuando entrenemos\n",
        "    # no nos llene la pantalla de información inecesaria.\n",
        "\n",
        "    print(\"Validacion de dimensiones\")\n",
        "    tam = input(\"Ingrese tamaño de entrada: \")\n",
        "    x = torch.randn(1, 1, int(tam), int(tam))\n",
        "    print(\"Tamaño entrada: \", x.shape)\n",
        "\n",
        "    x = self.conv1(x)\n",
        "    print(\"Tamaño salida conv1: \", x.shape)\n",
        "    x = self.conv2(x)\n",
        "    print(\"Tamaño salida conv2: \", x.shape)\n",
        "    x = self.conv3(x)\n",
        "    print(\"Tamaño salida conv3: \", x.shape)\n",
        "\n",
        "    # x = self.conv4(x)\n",
        "    # print(\"Tamaño salida conv4: \", x.shape)\n",
        "\n",
        "    x = x.view(x.shape[0], -1)\n",
        "    print(\"Tamaño imagen vectorizada: \", x.shape)\n",
        "    x = self.fc(x)\n",
        "    print(\"Tamaño salida fc (nro clases): \", x.shape)\n",
        "\n",
        "  def forward(self, x):\n",
        "    self.conv1_out = self.conv1(x)\n",
        "    self.conv2_out = self.conv2(self.conv1_out)\n",
        "    self.conv3_out = self.conv3(self.conv2_out)\n",
        "    # self.conv4_out = self.conv4(self.conv3_out)\n",
        "    y = self.conv3_out.view(self.conv3_out.shape[0], -1)\n",
        "    y = self.fc(y)\n",
        "    x = self.sm(x)\n",
        "    return y"
      ],
      "metadata": {
        "id": "bn9nsWTNlghb"
      },
      "execution_count": 27,
      "outputs": []
    },
    {
      "cell_type": "code",
      "source": [
        "model = CNN()"
      ],
      "metadata": {
        "id": "SHufjwz4mLF8",
        "outputId": "386e69e7-5371-4a2e-9b62-5121e2f9900d",
        "colab": {
          "base_uri": "https://localhost:8080/"
        }
      },
      "execution_count": 28,
      "outputs": [
        {
          "output_type": "stream",
          "name": "stdout",
          "text": [
            "Red creada\n",
            "arquitectura:\n",
            "CNN(\n",
            "  (conv1): Sequential(\n",
            "    (0): Conv2d(1, 8, kernel_size=(5, 5), stride=(1, 1), padding=(2, 2))\n",
            "    (1): Tanh()\n",
            "    (2): MaxPool2d(kernel_size=3, stride=2, padding=1, dilation=1, ceil_mode=False)\n",
            "  )\n",
            "  (conv2): Sequential(\n",
            "    (0): Conv2d(8, 16, kernel_size=(5, 5), stride=(1, 1), padding=(2, 2))\n",
            "    (1): Tanh()\n",
            "    (2): MaxPool2d(kernel_size=3, stride=2, padding=1, dilation=1, ceil_mode=False)\n",
            "  )\n",
            "  (conv3): Sequential(\n",
            "    (0): Conv2d(16, 32, kernel_size=(5, 5), stride=(1, 1), padding=(2, 2))\n",
            "    (1): Tanh()\n",
            "    (2): MaxPool2d(kernel_size=3, stride=2, padding=1, dilation=1, ceil_mode=False)\n",
            "  )\n",
            "  (fc): Linear(in_features=512, out_features=10, bias=True)\n",
            "  (sm): Softmax(dim=1)\n",
            ")\n",
            "Número total de capas de CNN (conv+act+polling) + finales :  5\n",
            "Número total de parámetros a entrenar:  21386\n"
          ]
        }
      ]
    },
    {
      "cell_type": "code",
      "source": [
        "from torchsummary import summary\n",
        "summary(model.cuda(),(1, 28, 28) )"
      ],
      "metadata": {
        "id": "J_GlTo68mda9",
        "outputId": "525c7e46-f8c8-491b-eef3-51b592d7a783",
        "colab": {
          "base_uri": "https://localhost:8080/"
        }
      },
      "execution_count": 29,
      "outputs": [
        {
          "output_type": "stream",
          "name": "stdout",
          "text": [
            "----------------------------------------------------------------\n",
            "        Layer (type)               Output Shape         Param #\n",
            "================================================================\n",
            "            Conv2d-1            [-1, 8, 28, 28]             208\n",
            "              Tanh-2            [-1, 8, 28, 28]               0\n",
            "         MaxPool2d-3            [-1, 8, 14, 14]               0\n",
            "            Conv2d-4           [-1, 16, 14, 14]           3,216\n",
            "              Tanh-5           [-1, 16, 14, 14]               0\n",
            "         MaxPool2d-6             [-1, 16, 7, 7]               0\n",
            "            Conv2d-7             [-1, 32, 7, 7]          12,832\n",
            "              Tanh-8             [-1, 32, 7, 7]               0\n",
            "         MaxPool2d-9             [-1, 32, 4, 4]               0\n",
            "           Linear-10                   [-1, 10]           5,130\n",
            "          Softmax-11            [-1, 1, 28, 28]               0\n",
            "================================================================\n",
            "Total params: 21,386\n",
            "Trainable params: 21,386\n",
            "Non-trainable params: 0\n",
            "----------------------------------------------------------------\n",
            "Input size (MB): 0.00\n",
            "Forward/backward pass size (MB): 0.20\n",
            "Params size (MB): 0.08\n",
            "Estimated Total Size (MB): 0.28\n",
            "----------------------------------------------------------------\n"
          ]
        }
      ]
    },
    {
      "cell_type": "code",
      "source": [
        "model.cpu()\n",
        "model.validar_dim()"
      ],
      "metadata": {
        "id": "7FVBEGvEnUTx",
        "outputId": "152e997d-819b-408a-80b6-03c386112af6",
        "colab": {
          "base_uri": "https://localhost:8080/"
        }
      },
      "execution_count": 30,
      "outputs": [
        {
          "output_type": "stream",
          "name": "stdout",
          "text": [
            "Validacion de dimensiones\n",
            "Ingrese tamaño de entrada: 28\n",
            "Tamaño entrada:  torch.Size([1, 1, 28, 28])\n",
            "Tamaño salida conv1:  torch.Size([1, 8, 14, 14])\n",
            "Tamaño salida conv2:  torch.Size([1, 16, 7, 7])\n",
            "Tamaño salida conv3:  torch.Size([1, 32, 4, 4])\n",
            "Tamaño imagen vectorizada:  torch.Size([1, 512])\n",
            "Tamaño salida fc (nro clases):  torch.Size([1, 10])\n"
          ]
        }
      ]
    },
    {
      "cell_type": "code",
      "source": [
        "from tqdm import tqdm # <- para graficar la barra de avance\n",
        "import numpy as np\n",
        "\n",
        "def fit(model, dataloader, epochs=15):\n",
        "    model.to(device)\n",
        "    optimizer = torch.optim.Adam(model.parameters(), lr=1e-4)\n",
        "    criterion = torch.nn.CrossEntropyLoss()\n",
        "    epoch_t_loss = []\n",
        "    epoch_v_loss = []\n",
        "    epoch_t_acc = []\n",
        "    epoch_v_acc = []\n",
        "    for epoch in range(1, epochs+1):\n",
        "        model.train()\n",
        "        train_loss, train_acc = [], []\n",
        "        bar = tqdm(dataloader['train'])\n",
        "        for batch in bar:\n",
        "            X, y = batch\n",
        "            X, y = X.to(device), y.to(device)\n",
        "            optimizer.zero_grad()\n",
        "            y_hat = model(X)\n",
        "            loss = criterion(y_hat, y)\n",
        "            loss.backward()\n",
        "            optimizer.step()\n",
        "            train_loss.append(loss.item())\n",
        "            ####\n",
        "            acc = (y == torch.argmax(y_hat, axis=1)).sum().item() / len(y)\n",
        "            train_acc.append(acc)\n",
        "            bar.set_description(f\"loss {np.mean(train_loss):.5f} acc {np.mean(train_acc):.5f}\")\n",
        "\n",
        "        epoch_t_loss.append(np.mean(train_loss))\n",
        "        epoch_t_acc.append(np.mean(train_acc))\n",
        "\n",
        "        bar = tqdm(dataloader['test'])\n",
        "        val_loss, val_acc = [], []\n",
        "        model.eval()\n",
        "        with torch.no_grad():\n",
        "            for batch in bar:\n",
        "                X, y = batch\n",
        "                X, y = X.to(device), y.to(device)\n",
        "                y_hat = model(X)\n",
        "                loss = criterion(y_hat, y)\n",
        "                val_loss.append(loss.item())\n",
        "                acc = (y == torch.argmax(y_hat, axis=1)).sum().item() / len(y)\n",
        "                val_acc.append(acc)\n",
        "                bar.set_description(f\"val_loss {np.mean(val_loss):.5f} val_acc {np.mean(val_acc):.5f}\")\n",
        "        print(f\"Epoch {epoch}/{epochs} loss {np.mean(train_loss):.5f} val_loss {np.mean(val_loss):.5f} acc {np.mean(train_acc):.5f} val_acc {np.mean(val_acc):.5f}\")\n",
        "\n",
        "        epoch_v_loss.append(np.mean(val_loss))\n",
        "        epoch_v_acc.append(np.mean(val_acc))\n",
        "\n",
        "    plt.figure()\n",
        "    plt.plot(epoch_t_loss, 'r')\n",
        "    plt.plot(epoch_v_loss, 'g')\n",
        "    plt.title('loss')\n",
        "    plt.legend(['train loss', 'val loss'])\n",
        "    plt.grid()\n",
        "\n",
        "    plt.figure()\n",
        "    plt.plot(epoch_t_acc, 'r')\n",
        "    plt.plot(epoch_v_acc, 'g')\n",
        "    plt.title('acc')\n",
        "    plt.legend(['train acc', 'val acc'])\n",
        "    plt.grid()\n",
        "    plt.show()"
      ],
      "metadata": {
        "id": "oR3AvQmQo-46"
      },
      "execution_count": 31,
      "outputs": []
    },
    {
      "cell_type": "code",
      "source": [
        "fit(model, dataloader, epochs=5)"
      ],
      "metadata": {
        "id": "vUwDe1L5pFqS",
        "outputId": "33506c92-b48b-4d05-bdd2-aca37fd96a36",
        "colab": {
          "base_uri": "https://localhost:8080/",
          "height": 1000
        }
      },
      "execution_count": 32,
      "outputs": [
        {
          "output_type": "stream",
          "name": "stderr",
          "text": [
            "loss 1.05442 acc 0.65448: 100%|██████████| 938/938 [00:14<00:00, 64.29it/s]\n",
            "val_loss 0.70817 val_acc 0.73855: 100%|██████████| 157/157 [00:01<00:00, 91.88it/s]\n"
          ]
        },
        {
          "output_type": "stream",
          "name": "stdout",
          "text": [
            "Epoch 1/5 loss 1.05442 val_loss 0.70817 acc 0.65448 val_acc 0.73855\n"
          ]
        },
        {
          "output_type": "stream",
          "name": "stderr",
          "text": [
            "loss 0.61755 acc 0.77579: 100%|██████████| 938/938 [00:12<00:00, 73.16it/s]\n",
            "val_loss 0.58255 val_acc 0.78414: 100%|██████████| 157/157 [00:01<00:00, 84.43it/s]\n"
          ]
        },
        {
          "output_type": "stream",
          "name": "stdout",
          "text": [
            "Epoch 2/5 loss 0.61755 val_loss 0.58255 acc 0.77579 val_acc 0.78414\n"
          ]
        },
        {
          "output_type": "stream",
          "name": "stderr",
          "text": [
            "loss 0.53548 acc 0.80315: 100%|██████████| 938/938 [00:12<00:00, 74.12it/s]\n",
            "val_loss 0.52382 val_acc 0.80543: 100%|██████████| 157/157 [00:02<00:00, 74.60it/s]\n"
          ]
        },
        {
          "output_type": "stream",
          "name": "stdout",
          "text": [
            "Epoch 3/5 loss 0.53548 val_loss 0.52382 acc 0.80315 val_acc 0.80543\n"
          ]
        },
        {
          "output_type": "stream",
          "name": "stderr",
          "text": [
            "loss 0.48647 acc 0.82181: 100%|██████████| 938/938 [00:13<00:00, 70.25it/s]\n",
            "val_loss 0.48998 val_acc 0.82026: 100%|██████████| 157/157 [00:01<00:00, 84.71it/s]\n"
          ]
        },
        {
          "output_type": "stream",
          "name": "stdout",
          "text": [
            "Epoch 4/5 loss 0.48647 val_loss 0.48998 acc 0.82181 val_acc 0.82026\n"
          ]
        },
        {
          "output_type": "stream",
          "name": "stderr",
          "text": [
            "loss 0.45136 acc 0.83529: 100%|██████████| 938/938 [00:12<00:00, 74.93it/s]\n",
            "val_loss 0.45691 val_acc 0.83360: 100%|██████████| 157/157 [00:01<00:00, 91.93it/s]\n"
          ]
        },
        {
          "output_type": "stream",
          "name": "stdout",
          "text": [
            "Epoch 5/5 loss 0.45136 val_loss 0.45691 acc 0.83529 val_acc 0.83360\n"
          ]
        },
        {
          "output_type": "display_data",
          "data": {
            "text/plain": [
              "<Figure size 640x480 with 1 Axes>"
            ],
            "image/png": "[encoded data removed]"
          },
          "metadata": {}
        },
        {
          "output_type": "display_data",
          "data": {
            "text/plain": [
              "<Figure size 640x480 with 1 Axes>"
            ],
            "image/png": "[encoded data removed]"
          },
          "metadata": {}
        }
      ]
    },
    {
      "cell_type": "markdown",
      "source": [
        "Métricas obtenidas para un modelo con **3 capas de convolución**, **8 kernels** de **tamaño 5x5**:\n",
        "\n",
        "- train loss = 0.45136\n",
        "- validation loss = 0.45691\n",
        "\n",
        "- train accuracy = 83.529%\n",
        "- validation accuracy = 83.360%"
      ],
      "metadata": {
        "id": "K3nmYzktvWRF"
      }
    },
    {
      "cell_type": "code",
      "source": [],
      "metadata": {
        "id": "ucrnwFlDtNMy"
      },
      "execution_count": null,
      "outputs": []
    },
    {
      "cell_type": "markdown",
      "source": [
        "## Parte 2.b\n",
        "\n",
        "Empleando el modelo entrenado y elegido por Ud. en el punto anterior, realice transfer learning para procesar las imágenes del dataset MNIST (los números) e identificar los números mayores o menores a 4,5.\n",
        "Para el entrenamiento emplee solamente 20.000 muestras del set de entrenamiento y valide con el set de testeo. (al reducir el train set, mantenga equilibrada la distribución de las clases!!)\n",
        "\n",
        "Pruebe 2 estrategias de transfer learning distintas (acorde a los visto en la teoría) y comente para cada una, cual debería funcionar mejor justificando su respuesta.\n",
        "\n",
        "\n",
        "Compare los resultados finales y comente."
      ],
      "metadata": {
        "id": "jLIuwzpm0Rz0"
      }
    }
  ]
}