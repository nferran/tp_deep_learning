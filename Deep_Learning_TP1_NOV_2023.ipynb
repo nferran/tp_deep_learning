{
  "cells": [
    {
      "cell_type": "markdown",
      "metadata": {
        "id": "ftXnmgdtOuZs"
      },
      "source": [
        "# Universidad de Buenos Aires\n",
        "## Deep Learning - TP1\n",
        "\n",
        "### _Alumno: Natanael Emir Ferrán_\n",
        "### _Cohorte: 12_"
      ]
    },
    {
      "cell_type": "markdown",
      "metadata": {
        "id": "nlfSxrehmuYW"
      },
      "source": [
        "### Ejercicio 1\n",
        "\n"
      ]
    },
    {
      "cell_type": "markdown",
      "metadata": {
        "id": "FY2z-GSXoFvq"
      },
      "source": [
        "Se quiere encontrar el máximo de la siguiente función:\n",
        "\n",
        "$z = -(x - 2)^2 - (y - 3)^2 + 4$\n",
        "<br>\n",
        "<br>\n",
        "1. Aplicar gradiente de forma analítica e igualar a zero para encontrar los valores de $x$ e $y$ donde $z$ tiene un máximo. Cuál es el valor del máximo?\n",
        "\n",
        "2. Aplicar SGD para encontrar la ubicación del máximo de manera numérica (pueden utilizar pytorch). Comparar con el resultado obtenido en el punto 1"
      ]
    },
    {
      "cell_type": "markdown",
      "metadata": {},
      "source": [
        "#### Solución"
      ]
    },
    {
      "cell_type": "markdown",
      "metadata": {},
      "source": [
        "A fin de obtener los puntos críticos de la función $z$, obtenemos sus derivadas primeras y las igualamos a 0:"
      ]
    },
    {
      "cell_type": "markdown",
      "metadata": {},
      "source": [
        "$$ \\frac{dz}{dx} = -2(x-2) = 0 $$"
      ]
    },
    {
      "cell_type": "markdown",
      "metadata": {},
      "source": [
        "$$ \\frac{dz}{dy} = -2(x-3) = 0 $$"
      ]
    },
    {
      "cell_type": "markdown",
      "metadata": {},
      "source": [
        "$$ x = 2 $$"
      ]
    },
    {
      "cell_type": "markdown",
      "metadata": {},
      "source": [
        "$$ y = 3 $$"
      ]
    },
    {
      "cell_type": "markdown",
      "metadata": {},
      "source": [
        "A raíz de estos resultados, observamos que contamos con un único punto crítico $(2,3)$."
      ]
    },
    {
      "cell_type": "markdown",
      "metadata": {},
      "source": [
        "A fin de conocer si se trata de un máximo, un mínimo o un punto de inflexión, armamos la _matriz hessiana_ y analizamos sus autovalores. La misma se conforma de la siguiente manera:"
      ]
    },
    {
      "cell_type": "markdown",
      "metadata": {},
      "source": [
        "$$ H(z) =\n",
        "\\begin{pmatrix}\n",
        "\\frac{d^{2}z}{dx^{2}} & \\frac{d^{2}z}{dxdy} \\\\\n",
        "\\frac{d^{2}z}{dydx} & \\frac{d^{2}z}{dy^{2}}\n",
        "\\end{pmatrix}\n",
        "$$"
      ]
    },
    {
      "cell_type": "markdown",
      "metadata": {},
      "source": [
        "Entonces calculamos:"
      ]
    },
    {
      "cell_type": "markdown",
      "metadata": {},
      "source": [
        "$$ \\frac{d^{2}z}{dx^{2}} = -2 $$"
      ]
    },
    {
      "cell_type": "markdown",
      "metadata": {},
      "source": [
        "$$ \\frac{d^{2}z}{dxdy} = 0 $$"
      ]
    },
    {
      "cell_type": "markdown",
      "metadata": {},
      "source": [
        "$$\\frac{d^{2}z}{dydx}=0$$"
      ]
    },
    {
      "cell_type": "markdown",
      "metadata": {},
      "source": [
        "$$\\frac{d^{2}z}{dy^{2}}=-2$$"
      ]
    },
    {
      "cell_type": "markdown",
      "metadata": {},
      "source": [
        "Reemplazamos y obtenemos:"
      ]
    },
    {
      "cell_type": "markdown",
      "metadata": {},
      "source": [
        "$$ H(z) =\n",
        "\\begin{pmatrix}\n",
        "-2 & 0 \\\\\n",
        "0 & -2\n",
        "\\end{pmatrix}\n",
        "$$"
      ]
    },
    {
      "cell_type": "markdown",
      "metadata": {},
      "source": [
        "Como los autovalores son ambos negativos, entonces concluímos que el punto crítico encontrado se trata de un máximo."
      ]
    },
    {
      "cell_type": "markdown",
      "metadata": {},
      "source": [
        "Finalmente, reemplazamos los valores de $x$ y $y$ en la función $z$ a fin de obtener el valor del máximo:"
      ]
    },
    {
      "cell_type": "markdown",
      "metadata": {},
      "source": [
        "$$\n",
        "z(x=2,y=3) = -(2-2)^{2}-(3-3)^{2}+4 = 4\n",
        "$$"
      ]
    },
    {
      "cell_type": "markdown",
      "metadata": {},
      "source": [
        "***\n",
        "\n",
        "\n",
        "Seguidamente, utilizaremos `pytorch` para resolver el ejercicio con SGD:"
      ]
    },
    {
      "cell_type": "code",
      "execution_count": 1,
      "metadata": {},
      "outputs": [],
      "source": [
        "# first we import libraries\n",
        "import torch\n",
        "from tqdm import tqdm"
      ]
    },
    {
      "cell_type": "code",
      "execution_count": 2,
      "metadata": {},
      "outputs": [
        {
          "name": "stderr",
          "output_type": "stream",
          "text": [
            "100%|██████████| 5000/5000 [00:00<00:00, 5016.81it/s]"
          ]
        },
        {
          "name": "stdout",
          "output_type": "stream",
          "text": [
            "x: 1.9999114274978638\n",
            "y: 2.999856948852539\n",
            "Max value obtained: 4.0\n"
          ]
        },
        {
          "name": "stderr",
          "output_type": "stream",
          "text": [
            "\n"
          ]
        }
      ],
      "source": [
        "# defining function\n",
        "def function(x, y):\n",
        "    return -(x - 2)**2 - (y - 3)**2 + 4\n",
        "\n",
        "# we initialize variables\n",
        "x = torch.tensor([0.0], requires_grad=True)\n",
        "y = torch.tensor([0.0], requires_grad=True)\n",
        "\n",
        "# choosing HP\n",
        "lr = 0.001\n",
        "epochs = 5000\n",
        "\n",
        "# starting loop\n",
        "for epoch in tqdm(range(epochs)):\n",
        "\n",
        "    # calculating output\n",
        "    output = function(x, y)\n",
        "    \n",
        "    # getting gradients\n",
        "    output.backward()\n",
        "    \n",
        "    # updating variables\n",
        "    x.data = x.data + lr * x.grad.data\n",
        "    y.data = y.data + lr * y.grad.data\n",
        "    \n",
        "    # restarting gradients\n",
        "    x.grad.data.zero_()\n",
        "    y.grad.data.zero_()\n",
        "\n",
        "# print results\n",
        "print(\"x:\", x.item())\n",
        "print(\"y:\", y.item())\n",
        "print(\"Max value obtained:\", output.item())"
      ]
    },
    {
      "cell_type": "markdown",
      "metadata": {
        "id": "WL2PjUnT_Uvk"
      },
      "source": [
        "### Ejercicio 2"
      ]
    },
    {
      "cell_type": "markdown",
      "metadata": {
        "id": "73yqE_Sslwif"
      },
      "source": [
        "\n",
        "Descargar el dataset del siguiente link: https://drive.google.com/file/d/1eFWn7eDmSFUK1JuuBBykxkC9J0CGYDKe/view?usp=sharing.\n",
        "\n",
        "El dataset contiene mediciones obtenidas al ensayar un sistema de posicionamiento. El sistema consiste en un dispositivo móvil del cual se desea conocer la posición y 13 \"balizas\" fijas (distribuidas en un salón) que emiten señales de radio.\n",
        "\n",
        "Cada fila del dataset contiene una posición del dispositivo móvil y los niveles de señal recibida (de las señales emitidas por cada una de las 13 balizas fijas) en dicha posición.\n",
        "\n",
        "![Salon](https://drive.google.com/uc?export=view&id=1z3uHEd3tS1kQpGXfhPYn2GFfA95v_ArW)\n",
        "\n",
        "\n",
        "Algunas consideraciones:\n",
        "- La imágen anterior es orientativa, no se encuentra a escala ni representa la verdadera posición de las balizas fijas.\n",
        "- La posición en el salón se divide en una cuadrícula. La posición horizontal se codifica con una letra de la A a la Z y la posición vertical se codifica con valores de 01 a 20.\n",
        "- El nivel de señal recibida se mide de 0 (máximo teórico) a -200 (mínimo teórico). NA significa que no se recibe señal de la baliza en dicha posición. A efectos prácticos no recibir señal (NA) es equivalente a recibir una señal con nivel -200.\n",
        "\n",
        "**Consignas:**\n",
        "\n",
        "1. Analizar el dataset y aplicar las transformaciones que considere necesarias para entrenar un modelo de red neuronal.\n",
        "\n",
        "2. Entrenar un modelo de **Deep Learning** con múltiples capas lineales que prediga la posición del dispositivo móvil en el salón (vertical y horizontal) a partir de las mediciones de los niveles de las 13 balizas. Graficar la evolución de la función de pérdida y la evolución de la métrica [MAE](https://scikit-learn.org/stable/modules/generated/sklearn.metrics.mean_absolute_error.html) durante el entrenamiento.\n",
        "\n",
        "3. Comprobar el funcionamiento del modelo realizando una predicción sobre una muestra aleatoria del dataset y comparar con la posición real.\n",
        "\n",
        "Con la finalidad de ahorrar energía en el dispositivo móvil y simplificar el sistema, se quiere ensayar la posibilidad de predecir la posición solamente con la información del nivel de señal de las 2 balizas mas cercanas.\n",
        "\n",
        "4. Aplicar las transformaciones necesarias sobre el dataset para obtener un nuevo dataset que contenga solamente la información de las 2 balizas con mayor nivel de señal (ver imágen adjunta). Si no se recibe señal de una 2da baliza, proponer un método para completar la información faltante.\n",
        "\n",
        "![Dataset Punto 4](https://drive.google.com/uc?export=view&id=1kz1Y5m5rmbYPiuZIc4QHvnt4uFB2TwWu)\n",
        "\n",
        "\n",
        "5. Entrenar un modelo de **Deep Learning** que prediga la posición del dispositivo móvil en el salón (vertical y horizontal) a partir del dataset del punto 4, incluyendo **una capa de embeddings** para ambos número (o IDs) de balizas.\n",
        "\n",
        "6. Comparar los resultados obtenidos con los modelo de los puntos 2 y 5 y enunciar conclusiones."
      ]
    },
    {
      "cell_type": "markdown",
      "metadata": {},
      "source": [
        "#### Solución"
      ]
    },
    {
      "cell_type": "code",
      "execution_count": 3,
      "metadata": {},
      "outputs": [],
      "source": [
        "# first we import essential libraries\n",
        "import pandas as pd\n",
        "import numpy as np\n",
        "import torch\n",
        "from torch.utils.data import DataLoader, Dataset\n",
        "import matplotlib.pyplot as plt\n",
        "import seaborn as sns\n",
        "from sklearn import metrics"
      ]
    },
    {
      "cell_type": "code",
      "execution_count": 4,
      "metadata": {},
      "outputs": [
        {
          "data": {
            "text/html": [
              "<div>\n",
              "<style scoped>\n",
              "    .dataframe tbody tr th:only-of-type {\n",
              "        vertical-align: middle;\n",
              "    }\n",
              "\n",
              "    .dataframe tbody tr th {\n",
              "        vertical-align: top;\n",
              "    }\n",
              "\n",
              "    .dataframe thead th {\n",
              "        text-align: right;\n",
              "    }\n",
              "</style>\n",
              "<table border=\"1\" class=\"dataframe\">\n",
              "  <thead>\n",
              "    <tr style=\"text-align: right;\">\n",
              "      <th></th>\n",
              "      <th>Pos</th>\n",
              "      <th>Baliza1</th>\n",
              "      <th>Baliza2</th>\n",
              "      <th>Baliza3</th>\n",
              "      <th>Baliza4</th>\n",
              "      <th>Baliza5</th>\n",
              "      <th>Baliza6</th>\n",
              "      <th>Baliza7</th>\n",
              "      <th>Baliza8</th>\n",
              "      <th>Baliza9</th>\n",
              "      <th>Baliza10</th>\n",
              "      <th>Baliza11</th>\n",
              "      <th>Baliza12</th>\n",
              "      <th>Baliza13</th>\n",
              "    </tr>\n",
              "  </thead>\n",
              "  <tbody>\n",
              "    <tr>\n",
              "      <th>0</th>\n",
              "      <td>O02</td>\n",
              "      <td>NaN</td>\n",
              "      <td>NaN</td>\n",
              "      <td>NaN</td>\n",
              "      <td>NaN</td>\n",
              "      <td>NaN</td>\n",
              "      <td>-78.0</td>\n",
              "      <td>NaN</td>\n",
              "      <td>NaN</td>\n",
              "      <td>NaN</td>\n",
              "      <td>NaN</td>\n",
              "      <td>NaN</td>\n",
              "      <td>NaN</td>\n",
              "      <td>NaN</td>\n",
              "    </tr>\n",
              "    <tr>\n",
              "      <th>1</th>\n",
              "      <td>P01</td>\n",
              "      <td>NaN</td>\n",
              "      <td>NaN</td>\n",
              "      <td>NaN</td>\n",
              "      <td>NaN</td>\n",
              "      <td>NaN</td>\n",
              "      <td>-78.0</td>\n",
              "      <td>NaN</td>\n",
              "      <td>NaN</td>\n",
              "      <td>NaN</td>\n",
              "      <td>NaN</td>\n",
              "      <td>NaN</td>\n",
              "      <td>NaN</td>\n",
              "      <td>NaN</td>\n",
              "    </tr>\n",
              "    <tr>\n",
              "      <th>2</th>\n",
              "      <td>P01</td>\n",
              "      <td>NaN</td>\n",
              "      <td>NaN</td>\n",
              "      <td>NaN</td>\n",
              "      <td>NaN</td>\n",
              "      <td>NaN</td>\n",
              "      <td>-77.0</td>\n",
              "      <td>NaN</td>\n",
              "      <td>NaN</td>\n",
              "      <td>NaN</td>\n",
              "      <td>NaN</td>\n",
              "      <td>NaN</td>\n",
              "      <td>NaN</td>\n",
              "      <td>NaN</td>\n",
              "    </tr>\n",
              "    <tr>\n",
              "      <th>3</th>\n",
              "      <td>P01</td>\n",
              "      <td>NaN</td>\n",
              "      <td>NaN</td>\n",
              "      <td>NaN</td>\n",
              "      <td>NaN</td>\n",
              "      <td>NaN</td>\n",
              "      <td>-77.0</td>\n",
              "      <td>NaN</td>\n",
              "      <td>NaN</td>\n",
              "      <td>NaN</td>\n",
              "      <td>NaN</td>\n",
              "      <td>NaN</td>\n",
              "      <td>NaN</td>\n",
              "      <td>NaN</td>\n",
              "    </tr>\n",
              "    <tr>\n",
              "      <th>4</th>\n",
              "      <td>P01</td>\n",
              "      <td>NaN</td>\n",
              "      <td>NaN</td>\n",
              "      <td>NaN</td>\n",
              "      <td>NaN</td>\n",
              "      <td>NaN</td>\n",
              "      <td>-77.0</td>\n",
              "      <td>NaN</td>\n",
              "      <td>NaN</td>\n",
              "      <td>NaN</td>\n",
              "      <td>NaN</td>\n",
              "      <td>NaN</td>\n",
              "      <td>NaN</td>\n",
              "      <td>NaN</td>\n",
              "    </tr>\n",
              "  </tbody>\n",
              "</table>\n",
              "</div>"
            ],
            "text/plain": [
              "   Pos  Baliza1  Baliza2  Baliza3  Baliza4  Baliza5  Baliza6  Baliza7  \\\n",
              "0  O02      NaN      NaN      NaN      NaN      NaN    -78.0      NaN   \n",
              "1  P01      NaN      NaN      NaN      NaN      NaN    -78.0      NaN   \n",
              "2  P01      NaN      NaN      NaN      NaN      NaN    -77.0      NaN   \n",
              "3  P01      NaN      NaN      NaN      NaN      NaN    -77.0      NaN   \n",
              "4  P01      NaN      NaN      NaN      NaN      NaN    -77.0      NaN   \n",
              "\n",
              "   Baliza8  Baliza9  Baliza10  Baliza11  Baliza12  Baliza13  \n",
              "0      NaN      NaN       NaN       NaN       NaN       NaN  \n",
              "1      NaN      NaN       NaN       NaN       NaN       NaN  \n",
              "2      NaN      NaN       NaN       NaN       NaN       NaN  \n",
              "3      NaN      NaN       NaN       NaN       NaN       NaN  \n",
              "4      NaN      NaN       NaN       NaN       NaN       NaN  "
            ]
          },
          "execution_count": 4,
          "metadata": {},
          "output_type": "execute_result"
        }
      ],
      "source": [
        "# reading data\n",
        "df= pd.read_csv(r'C:\\Users\\natan\\Documents\\MEGA\\MEGAsync\\Posgrado\\3er Bimestre\\AP\\Positioning_data.csv')\n",
        "df.head()"
      ]
    },
    {
      "cell_type": "code",
      "execution_count": 5,
      "metadata": {},
      "outputs": [
        {
          "data": {
            "text/plain": [
              "(1420, 14)"
            ]
          },
          "execution_count": 5,
          "metadata": {},
          "output_type": "execute_result"
        }
      ],
      "source": [
        "# checking basic info\n",
        "df.shape"
      ]
    },
    {
      "cell_type": "code",
      "execution_count": 6,
      "metadata": {},
      "outputs": [
        {
          "name": "stdout",
          "output_type": "stream",
          "text": [
            "<class 'pandas.core.frame.DataFrame'>\n",
            "RangeIndex: 1420 entries, 0 to 1419\n",
            "Data columns (total 14 columns):\n",
            " #   Column    Non-Null Count  Dtype  \n",
            "---  ------    --------------  -----  \n",
            " 0   Pos       1420 non-null   object \n",
            " 1   Baliza1   25 non-null     float64\n",
            " 2   Baliza2   497 non-null    float64\n",
            " 3   Baliza3   280 non-null    float64\n",
            " 4   Baliza4   402 non-null    float64\n",
            " 5   Baliza5   247 non-null    float64\n",
            " 6   Baliza6   287 non-null    float64\n",
            " 7   Baliza7   50 non-null     float64\n",
            " 8   Baliza8   91 non-null     float64\n",
            " 9   Baliza9   31 non-null     float64\n",
            " 10  Baliza10  29 non-null     float64\n",
            " 11  Baliza11  25 non-null     float64\n",
            " 12  Baliza12  35 non-null     float64\n",
            " 13  Baliza13  44 non-null     float64\n",
            "dtypes: float64(13), object(1)\n",
            "memory usage: 155.4+ KB\n"
          ]
        }
      ],
      "source": [
        "df.info()"
      ]
    },
    {
      "cell_type": "code",
      "execution_count": 7,
      "metadata": {},
      "outputs": [
        {
          "data": {
            "text/plain": [
              "Pos            0\n",
              "Baliza1     1395\n",
              "Baliza2      923\n",
              "Baliza3     1140\n",
              "Baliza4     1018\n",
              "Baliza5     1173\n",
              "Baliza6     1133\n",
              "Baliza7     1370\n",
              "Baliza8     1329\n",
              "Baliza9     1389\n",
              "Baliza10    1391\n",
              "Baliza11    1395\n",
              "Baliza12    1385\n",
              "Baliza13    1376\n",
              "dtype: int64"
            ]
          },
          "execution_count": 7,
          "metadata": {},
          "output_type": "execute_result"
        }
      ],
      "source": [
        "# checking NaN existence\n",
        "df.isna().sum(axis=0)"
      ]
    },
    {
      "cell_type": "code",
      "execution_count": 8,
      "metadata": {},
      "outputs": [
        {
          "data": {
            "text/html": [
              "<div>\n",
              "<style scoped>\n",
              "    .dataframe tbody tr th:only-of-type {\n",
              "        vertical-align: middle;\n",
              "    }\n",
              "\n",
              "    .dataframe tbody tr th {\n",
              "        vertical-align: top;\n",
              "    }\n",
              "\n",
              "    .dataframe thead th {\n",
              "        text-align: right;\n",
              "    }\n",
              "</style>\n",
              "<table border=\"1\" class=\"dataframe\">\n",
              "  <thead>\n",
              "    <tr style=\"text-align: right;\">\n",
              "      <th></th>\n",
              "      <th>Pos</th>\n",
              "      <th>Baliza1</th>\n",
              "      <th>Baliza2</th>\n",
              "      <th>Baliza3</th>\n",
              "      <th>Baliza4</th>\n",
              "      <th>Baliza5</th>\n",
              "      <th>Baliza6</th>\n",
              "      <th>Baliza7</th>\n",
              "      <th>Baliza8</th>\n",
              "      <th>Baliza9</th>\n",
              "      <th>Baliza10</th>\n",
              "      <th>Baliza11</th>\n",
              "      <th>Baliza12</th>\n",
              "      <th>Baliza13</th>\n",
              "    </tr>\n",
              "  </thead>\n",
              "  <tbody>\n",
              "    <tr>\n",
              "      <th>0</th>\n",
              "      <td>O02</td>\n",
              "      <td>-200.0</td>\n",
              "      <td>-200.0</td>\n",
              "      <td>-200.0</td>\n",
              "      <td>-200.0</td>\n",
              "      <td>-200.0</td>\n",
              "      <td>-78.0</td>\n",
              "      <td>-200.0</td>\n",
              "      <td>-200.0</td>\n",
              "      <td>-200.0</td>\n",
              "      <td>-200.0</td>\n",
              "      <td>-200.0</td>\n",
              "      <td>-200.0</td>\n",
              "      <td>-200.0</td>\n",
              "    </tr>\n",
              "    <tr>\n",
              "      <th>1</th>\n",
              "      <td>P01</td>\n",
              "      <td>-200.0</td>\n",
              "      <td>-200.0</td>\n",
              "      <td>-200.0</td>\n",
              "      <td>-200.0</td>\n",
              "      <td>-200.0</td>\n",
              "      <td>-78.0</td>\n",
              "      <td>-200.0</td>\n",
              "      <td>-200.0</td>\n",
              "      <td>-200.0</td>\n",
              "      <td>-200.0</td>\n",
              "      <td>-200.0</td>\n",
              "      <td>-200.0</td>\n",
              "      <td>-200.0</td>\n",
              "    </tr>\n",
              "    <tr>\n",
              "      <th>2</th>\n",
              "      <td>P01</td>\n",
              "      <td>-200.0</td>\n",
              "      <td>-200.0</td>\n",
              "      <td>-200.0</td>\n",
              "      <td>-200.0</td>\n",
              "      <td>-200.0</td>\n",
              "      <td>-77.0</td>\n",
              "      <td>-200.0</td>\n",
              "      <td>-200.0</td>\n",
              "      <td>-200.0</td>\n",
              "      <td>-200.0</td>\n",
              "      <td>-200.0</td>\n",
              "      <td>-200.0</td>\n",
              "      <td>-200.0</td>\n",
              "    </tr>\n",
              "    <tr>\n",
              "      <th>3</th>\n",
              "      <td>P01</td>\n",
              "      <td>-200.0</td>\n",
              "      <td>-200.0</td>\n",
              "      <td>-200.0</td>\n",
              "      <td>-200.0</td>\n",
              "      <td>-200.0</td>\n",
              "      <td>-77.0</td>\n",
              "      <td>-200.0</td>\n",
              "      <td>-200.0</td>\n",
              "      <td>-200.0</td>\n",
              "      <td>-200.0</td>\n",
              "      <td>-200.0</td>\n",
              "      <td>-200.0</td>\n",
              "      <td>-200.0</td>\n",
              "    </tr>\n",
              "    <tr>\n",
              "      <th>4</th>\n",
              "      <td>P01</td>\n",
              "      <td>-200.0</td>\n",
              "      <td>-200.0</td>\n",
              "      <td>-200.0</td>\n",
              "      <td>-200.0</td>\n",
              "      <td>-200.0</td>\n",
              "      <td>-77.0</td>\n",
              "      <td>-200.0</td>\n",
              "      <td>-200.0</td>\n",
              "      <td>-200.0</td>\n",
              "      <td>-200.0</td>\n",
              "      <td>-200.0</td>\n",
              "      <td>-200.0</td>\n",
              "      <td>-200.0</td>\n",
              "    </tr>\n",
              "  </tbody>\n",
              "</table>\n",
              "</div>"
            ],
            "text/plain": [
              "   Pos Baliza1 Baliza2 Baliza3 Baliza4 Baliza5 Baliza6 Baliza7 Baliza8  \\\n",
              "0  O02  -200.0  -200.0  -200.0  -200.0  -200.0   -78.0  -200.0  -200.0   \n",
              "1  P01  -200.0  -200.0  -200.0  -200.0  -200.0   -78.0  -200.0  -200.0   \n",
              "2  P01  -200.0  -200.0  -200.0  -200.0  -200.0   -77.0  -200.0  -200.0   \n",
              "3  P01  -200.0  -200.0  -200.0  -200.0  -200.0   -77.0  -200.0  -200.0   \n",
              "4  P01  -200.0  -200.0  -200.0  -200.0  -200.0   -77.0  -200.0  -200.0   \n",
              "\n",
              "  Baliza9 Baliza10 Baliza11 Baliza12 Baliza13  \n",
              "0  -200.0   -200.0   -200.0   -200.0   -200.0  \n",
              "1  -200.0   -200.0   -200.0   -200.0   -200.0  \n",
              "2  -200.0   -200.0   -200.0   -200.0   -200.0  \n",
              "3  -200.0   -200.0   -200.0   -200.0   -200.0  \n",
              "4  -200.0   -200.0   -200.0   -200.0   -200.0  "
            ]
          },
          "execution_count": 8,
          "metadata": {},
          "output_type": "execute_result"
        }
      ],
      "source": [
        "# replacing NaN with -200 \n",
        "from sklearn.impute import SimpleImputer\n",
        "\n",
        "imp = SimpleImputer(missing_values=np.nan, strategy='constant', fill_value= -200.0)\n",
        "df_transformed= imp.fit_transform(df)\n",
        "df_transformed= pd.DataFrame(data= df_transformed, columns= df.columns)\n",
        "\n",
        "df_transformed.head()"
      ]
    },
    {
      "cell_type": "code",
      "execution_count": 9,
      "metadata": {},
      "outputs": [
        {
          "data": {
            "text/plain": [
              "Pos         0\n",
              "Baliza1     0\n",
              "Baliza2     0\n",
              "Baliza3     0\n",
              "Baliza4     0\n",
              "Baliza5     0\n",
              "Baliza6     0\n",
              "Baliza7     0\n",
              "Baliza8     0\n",
              "Baliza9     0\n",
              "Baliza10    0\n",
              "Baliza11    0\n",
              "Baliza12    0\n",
              "Baliza13    0\n",
              "dtype: int64"
            ]
          },
          "execution_count": 9,
          "metadata": {},
          "output_type": "execute_result"
        }
      ],
      "source": [
        "# re-checking NaN existence\n",
        "df_transformed.isna().sum(axis=0)"
      ]
    },
    {
      "cell_type": "code",
      "execution_count": 10,
      "metadata": {},
      "outputs": [
        {
          "name": "stdout",
          "output_type": "stream",
          "text": [
            "<class 'pandas.core.frame.DataFrame'>\n",
            "RangeIndex: 1420 entries, 0 to 1419\n",
            "Data columns (total 14 columns):\n",
            " #   Column    Non-Null Count  Dtype \n",
            "---  ------    --------------  ----- \n",
            " 0   Pos       1420 non-null   object\n",
            " 1   Baliza1   1420 non-null   object\n",
            " 2   Baliza2   1420 non-null   object\n",
            " 3   Baliza3   1420 non-null   object\n",
            " 4   Baliza4   1420 non-null   object\n",
            " 5   Baliza5   1420 non-null   object\n",
            " 6   Baliza6   1420 non-null   object\n",
            " 7   Baliza7   1420 non-null   object\n",
            " 8   Baliza8   1420 non-null   object\n",
            " 9   Baliza9   1420 non-null   object\n",
            " 10  Baliza10  1420 non-null   object\n",
            " 11  Baliza11  1420 non-null   object\n",
            " 12  Baliza12  1420 non-null   object\n",
            " 13  Baliza13  1420 non-null   object\n",
            "dtypes: object(14)\n",
            "memory usage: 155.4+ KB\n"
          ]
        }
      ],
      "source": [
        "# checking data types\n",
        "df_transformed.info()"
      ]
    },
    {
      "cell_type": "code",
      "execution_count": 11,
      "metadata": {},
      "outputs": [],
      "source": [
        "# fixing wrong data types\n",
        "df_transformed[['Baliza1', 'Baliza2', 'Baliza3', 'Baliza4', 'Baliza5', 'Baliza6','Baliza7', 'Baliza8', 'Baliza9', 'Baliza10', 'Baliza11', 'Baliza12','Baliza13']] = df_transformed[['Baliza1', 'Baliza2', 'Baliza3', 'Baliza4', 'Baliza5', 'Baliza6','Baliza7', 'Baliza8', 'Baliza9', 'Baliza10', 'Baliza11', 'Baliza12','Baliza13']].apply(pd.to_numeric)"
      ]
    },
    {
      "cell_type": "code",
      "execution_count": 12,
      "metadata": {},
      "outputs": [
        {
          "name": "stdout",
          "output_type": "stream",
          "text": [
            "<class 'pandas.core.frame.DataFrame'>\n",
            "RangeIndex: 1420 entries, 0 to 1419\n",
            "Data columns (total 14 columns):\n",
            " #   Column    Non-Null Count  Dtype  \n",
            "---  ------    --------------  -----  \n",
            " 0   Pos       1420 non-null   object \n",
            " 1   Baliza1   1420 non-null   float64\n",
            " 2   Baliza2   1420 non-null   float64\n",
            " 3   Baliza3   1420 non-null   float64\n",
            " 4   Baliza4   1420 non-null   float64\n",
            " 5   Baliza5   1420 non-null   float64\n",
            " 6   Baliza6   1420 non-null   float64\n",
            " 7   Baliza7   1420 non-null   float64\n",
            " 8   Baliza8   1420 non-null   float64\n",
            " 9   Baliza9   1420 non-null   float64\n",
            " 10  Baliza10  1420 non-null   float64\n",
            " 11  Baliza11  1420 non-null   float64\n",
            " 12  Baliza12  1420 non-null   float64\n",
            " 13  Baliza13  1420 non-null   float64\n",
            "dtypes: float64(13), object(1)\n",
            "memory usage: 155.4+ KB\n"
          ]
        }
      ],
      "source": [
        "# re-checking data types\n",
        "df_transformed.info()"
      ]
    },
    {
      "cell_type": "code",
      "execution_count": 13,
      "metadata": {},
      "outputs": [
        {
          "data": {
            "text/plain": [
              "105"
            ]
          },
          "execution_count": 13,
          "metadata": {},
          "output_type": "execute_result"
        }
      ],
      "source": [
        "# checking quantity of 'Pos' unique values\n",
        "len(df_transformed.Pos.unique())"
      ]
    },
    {
      "cell_type": "code",
      "execution_count": 14,
      "metadata": {},
      "outputs": [],
      "source": [
        "# we have too many labels, so using OHE will increase dimensionality considerably.\n",
        "# even though, we are trying if it works well\n",
        "# if not, we are using an embedding layer instead"
      ]
    },
    {
      "cell_type": "code",
      "execution_count": 15,
      "metadata": {},
      "outputs": [],
      "source": [
        "# splitting data\n",
        "from sklearn.model_selection import train_test_split\n",
        "\n",
        "x= df_transformed.drop(['Pos'], axis= 1).values\n",
        "y= pd.get_dummies(df['Pos']).values\n",
        "\n",
        "X_train, X_test, y_train, y_test = train_test_split(x, y, test_size= 0.3, stratify= y)"
      ]
    },
    {
      "cell_type": "code",
      "execution_count": 16,
      "metadata": {},
      "outputs": [],
      "source": [
        "# creating dataset in order to work with pytorch\n",
        "class MyDataset(Dataset):\n",
        "\n",
        "  def __init__(self, x, y):\n",
        "    self.x = x\n",
        "    self.y = y\n",
        "\n",
        "  def __len__(self):\n",
        "    return self.x.shape[0]\n",
        "\n",
        "  def __getitem__(self, idx):\n",
        "    return self.x[idx], self.y[idx]"
      ]
    },
    {
      "cell_type": "code",
      "execution_count": 17,
      "metadata": {},
      "outputs": [],
      "source": [
        "# creating train and test sets\n",
        "train_ds= MyDataset(X_train, y_train)\n",
        "test_ds= MyDataset(X_test, y_test)"
      ]
    },
    {
      "cell_type": "code",
      "execution_count": 18,
      "metadata": {},
      "outputs": [
        {
          "data": {
            "text/plain": [
              "(array([-200.,  -71., -200., -200.,  -69., -200., -200., -200., -200.,\n",
              "        -200., -200., -200., -200.]),\n",
              " array([0, 0, 0, 0, 0, 0, 0, 0, 0, 0, 0, 0, 0, 0, 0, 0, 0, 0, 0, 0, 0, 0,\n",
              "        1, 0, 0, 0, 0, 0, 0, 0, 0, 0, 0, 0, 0, 0, 0, 0, 0, 0, 0, 0, 0, 0,\n",
              "        0, 0, 0, 0, 0, 0, 0, 0, 0, 0, 0, 0, 0, 0, 0, 0, 0, 0, 0, 0, 0, 0,\n",
              "        0, 0, 0, 0, 0, 0, 0, 0, 0, 0, 0, 0, 0, 0, 0, 0, 0, 0, 0, 0, 0, 0,\n",
              "        0, 0, 0, 0, 0, 0, 0, 0, 0, 0, 0, 0, 0, 0, 0, 0, 0], dtype=uint8))"
            ]
          },
          "execution_count": 18,
          "metadata": {},
          "output_type": "execute_result"
        }
      ],
      "source": [
        "# checking getitem correct functionality\n",
        "train_ds[20]"
      ]
    },
    {
      "cell_type": "code",
      "execution_count": 19,
      "metadata": {},
      "outputs": [
        {
          "data": {
            "text/plain": [
              "(array([-200.,  -72., -200., -200.,  -69., -200., -200., -200., -200.,\n",
              "        -200., -200., -200., -200.]),\n",
              " array([0, 0, 0, 0, 0, 0, 0, 0, 0, 0, 0, 0, 0, 0, 0, 0, 0, 0, 0, 0, 0, 0,\n",
              "        1, 0, 0, 0, 0, 0, 0, 0, 0, 0, 0, 0, 0, 0, 0, 0, 0, 0, 0, 0, 0, 0,\n",
              "        0, 0, 0, 0, 0, 0, 0, 0, 0, 0, 0, 0, 0, 0, 0, 0, 0, 0, 0, 0, 0, 0,\n",
              "        0, 0, 0, 0, 0, 0, 0, 0, 0, 0, 0, 0, 0, 0, 0, 0, 0, 0, 0, 0, 0, 0,\n",
              "        0, 0, 0, 0, 0, 0, 0, 0, 0, 0, 0, 0, 0, 0, 0, 0, 0], dtype=uint8))"
            ]
          },
          "execution_count": 19,
          "metadata": {},
          "output_type": "execute_result"
        }
      ],
      "source": [
        "test_ds[20]"
      ]
    },
    {
      "cell_type": "code",
      "execution_count": 20,
      "metadata": {},
      "outputs": [
        {
          "data": {
            "text/plain": [
              "994"
            ]
          },
          "execution_count": 20,
          "metadata": {},
          "output_type": "execute_result"
        }
      ],
      "source": [
        "# checking len correct functionality\n",
        "len(train_ds)"
      ]
    },
    {
      "cell_type": "code",
      "execution_count": 21,
      "metadata": {},
      "outputs": [
        {
          "data": {
            "text/plain": [
              "426"
            ]
          },
          "execution_count": 21,
          "metadata": {},
          "output_type": "execute_result"
        }
      ],
      "source": [
        "len(test_ds)"
      ]
    },
    {
      "cell_type": "code",
      "execution_count": 22,
      "metadata": {},
      "outputs": [],
      "source": [
        "# creating batches\n",
        "train_dataloader = DataLoader(train_ds, batch_size = 64, shuffle= True)\n",
        "test_dataloader = DataLoader(test_ds, batch_size= 64)"
      ]
    },
    {
      "cell_type": "code",
      "execution_count": 23,
      "metadata": {},
      "outputs": [],
      "source": [
        "# creating NN class\n",
        "class NNet(torch.nn.Module):\n",
        "\n",
        "  def __init__(self):\n",
        "    # defining NN architecture\n",
        "    super().__init__()\n",
        "    self.linear_1= torch.nn.Linear(in_features= 13, out_features= 200, bias= True)\n",
        "    self.relu_1= torch.nn.ReLU()\n",
        "    self.linear_2= torch.nn.Linear(in_features= 200, out_features= 200, bias= True)\n",
        "    self.relu_2= torch.nn.ReLU()\n",
        "    self.linear_3= torch.nn.Linear(in_features= 200, out_features= 105, bias= True)\n",
        "\n",
        "  def forward(self, x):\n",
        "    # defining forward propagation calculation\n",
        "    x= self.linear_1(x)\n",
        "    x= self.relu_1(x)\n",
        "    x= self.linear_2(x)\n",
        "    x= self.relu_2(x)\n",
        "    x= self.linear_3(x)\n",
        "\n",
        "    return x"
      ]
    },
    {
      "cell_type": "code",
      "execution_count": 24,
      "metadata": {},
      "outputs": [
        {
          "name": "stdout",
          "output_type": "stream",
          "text": [
            "NNet(\n",
            "  (linear_1): Linear(in_features=13, out_features=200, bias=True)\n",
            "  (relu_1): ReLU()\n",
            "  (linear_2): Linear(in_features=200, out_features=200, bias=True)\n",
            "  (relu_2): ReLU()\n",
            "  (linear_3): Linear(in_features=200, out_features=105, bias=True)\n",
            ")\n"
          ]
        }
      ],
      "source": [
        "# initialize and check NN schema\n",
        "nnet= NNet()\n",
        "print(nnet)"
      ]
    },
    {
      "cell_type": "code",
      "execution_count": 25,
      "metadata": {},
      "outputs": [
        {
          "name": "stdout",
          "output_type": "stream",
          "text": [
            "64105\n"
          ]
        }
      ],
      "source": [
        "# checking quantity of trainable parameters\n",
        "print(sum(p.numel() for p in nnet.parameters()))"
      ]
    },
    {
      "cell_type": "code",
      "execution_count": 26,
      "metadata": {},
      "outputs": [],
      "source": [
        "# choosing loss function and optimizer\n",
        "loss_function= torch.nn.CrossEntropyLoss(reduction= 'mean')\n",
        "optimizer= torch.optim.Adam(nnet.parameters(), lr= 0.01)"
      ]
    },
    {
      "cell_type": "code",
      "execution_count": 27,
      "metadata": {},
      "outputs": [
        {
          "data": {
            "text/plain": [
              "'cpu'"
            ]
          },
          "execution_count": 27,
          "metadata": {},
          "output_type": "execute_result"
        }
      ],
      "source": [
        "# using gpu if available\n",
        "device= \"cpu\"\n",
        "if torch.cuda.is_available():\n",
        "  device= \"cuda:0\"\n",
        "\n",
        "device"
      ]
    },
    {
      "cell_type": "code",
      "execution_count": 28,
      "metadata": {},
      "outputs": [],
      "source": [
        "# mounting NN in device \n",
        "nnet= nnet.to(device)"
      ]
    },
    {
      "cell_type": "code",
      "execution_count": 29,
      "metadata": {},
      "outputs": [
        {
          "ename": "TypeError",
          "evalue": "softmax() received an invalid combination of arguments - got (Tensor), but expected one of:\n * (Tensor input, int dim, torch.dtype dtype, *, Tensor out)\n * (Tensor input, name dim, *, torch.dtype dtype)\n",
          "output_type": "error",
          "traceback": [
            "\u001b[1;31m---------------------------------------------------------------------------\u001b[0m",
            "\u001b[1;31mTypeError\u001b[0m                                 Traceback (most recent call last)",
            "\u001b[1;32m~\\AppData\\Local\\Temp/ipykernel_3028/1290302506.py\u001b[0m in \u001b[0;36m<module>\u001b[1;34m\u001b[0m\n\u001b[0;32m     28\u001b[0m     \u001b[0moptimizer\u001b[0m\u001b[1;33m.\u001b[0m\u001b[0mzero_grad\u001b[0m\u001b[1;33m(\u001b[0m\u001b[1;33m)\u001b[0m\u001b[1;33m\u001b[0m\u001b[1;33m\u001b[0m\u001b[0m\n\u001b[0;32m     29\u001b[0m     \u001b[0mnnet_output\u001b[0m\u001b[1;33m=\u001b[0m \u001b[0mnnet\u001b[0m\u001b[1;33m(\u001b[0m\u001b[0mx_batch\u001b[0m\u001b[1;33m)\u001b[0m\u001b[1;33m\u001b[0m\u001b[1;33m\u001b[0m\u001b[0m\n\u001b[1;32m---> 30\u001b[1;33m     \u001b[0my_batch_hat\u001b[0m\u001b[1;33m=\u001b[0m \u001b[0mtorch\u001b[0m\u001b[1;33m.\u001b[0m\u001b[0msoftmax\u001b[0m\u001b[1;33m(\u001b[0m\u001b[0mnnet_output\u001b[0m\u001b[1;33m)\u001b[0m\u001b[1;33m\u001b[0m\u001b[1;33m\u001b[0m\u001b[0m\n\u001b[0m\u001b[0;32m     31\u001b[0m \u001b[1;33m\u001b[0m\u001b[0m\n\u001b[0;32m     32\u001b[0m     \u001b[1;31m# Loss calculation\u001b[0m\u001b[1;33m\u001b[0m\u001b[1;33m\u001b[0m\u001b[0m\n",
            "\u001b[1;31mTypeError\u001b[0m: softmax() received an invalid combination of arguments - got (Tensor), but expected one of:\n * (Tensor input, int dim, torch.dtype dtype, *, Tensor out)\n * (Tensor input, name dim, *, torch.dtype dtype)\n"
          ]
        }
      ],
      "source": [
        "# epochs quantity\n",
        "epochs= 10\n",
        "\n",
        "train_loss_by_epoch= []\n",
        "test_loss_by_epoch= []\n",
        "\n",
        "# Mini-Batch training\n",
        "for epoch in range(epochs):\n",
        "  \n",
        "  ############################################\n",
        "  ## Training\n",
        "  ############################################\n",
        "  nnet.train(True)\n",
        "\n",
        "  epoch_loss= 0\n",
        "  epoch_y_hat= []\n",
        "  epoch_y= []\n",
        "  \n",
        "  for i,data in enumerate(train_dataloader):\n",
        "    # getting data from training batches\n",
        "    x_batch, y_batch= data\n",
        "    # copying data to device\n",
        "    x_batch= x_batch.to(device).float()\n",
        "    y_batch= y_batch.to(device).float().reshape(-1, 1)\n",
        "\n",
        "    #### forward propagation ####\n",
        "    # restarting gradients\n",
        "    optimizer.zero_grad()\n",
        "    nnet_output= nnet(x_batch)\n",
        "    y_batch_hat= torch.softmax(nnet_output)\n",
        "    \n",
        "    # Loss calculation\n",
        "    loss= loss_function(nnet_output, y_batch)\n",
        "\n",
        "    #### backpropagation ####\n",
        "    loss.backward()\n",
        "\n",
        "    # updating parameters\n",
        "    optimizer.step()\n",
        "\n",
        "    # save true and predicted values in order to calculate metrics\n",
        "    epoch_y += list(y_batch.detach().cpu().numpy())\n",
        "    epoch_y_hat += list(y_batch_hat.detach().cpu().numpy())\n",
        "    # save batch-loss\n",
        "    epoch_loss = epoch_loss + loss.item()\n",
        "\n",
        "  # loss-mean\n",
        "  epoch_loss = epoch_loss / n_train\n",
        "  # save epoch-loss for graphs\n",
        "  train_loss_by_epoch.append(epoch_loss)\n",
        "  # calculate metric of the epoch\n",
        "  accuracy = metrics.accuracy_score(epoch_y, [j>=0.5 for j in epoch_y_hat])\n",
        "\n",
        "  ############################################\n",
        "  ## Testing\n",
        "  ############################################\n",
        "  # disable gradient calculation\n",
        "  nnet.train(False)\n",
        "\n",
        "  valid_epoch_loss = 0\n",
        "  valid_epoch_y_hat = []\n",
        "  valid_epoch_y = []\n",
        "\n",
        "  for i,data in enumerate(valid_dataloader):\n",
        "    # getting data from testing batches\n",
        "    x_batch, y_batch= data\n",
        "    # copying data to device\n",
        "    x_batch= x_batch.to(device).float()\n",
        "    y_batch= y_batch.to(device).float().reshape(-1, 1)\n",
        "\n",
        "    #### forward propagation ####\n",
        "    nnet_output= nnet(x_batch)\n",
        "    y_batch_hat= torch.softmax(nnet_output)\n",
        "    \n",
        "    # Loss calculation\n",
        "    loss= loss_function(nnet_output, y_batch)\n",
        "\n",
        "    # save true and predicted values in order to calculate metrics\n",
        "    valid_epoch_y += list(y_batch.detach().cpu().numpy())\n",
        "    valid_epoch_y_hat += list(y_batch_hat.detach().cpu().numpy())\n",
        "    # save batch-loss\n",
        "    valid_epoch_loss = valid_epoch_loss + loss.item()\n",
        "\n",
        "  # loss-mean\n",
        "  valid_epoch_loss = valid_epoch_loss / n_valid\n",
        "  # save epoch-loss for graphs\n",
        "  valid_loss_by_epoch.append(valid_epoch_loss)\n",
        "  # calculate metric of the epoch\n",
        "  valid_accuracy = metrics.accuracy_score(valid_epoch_y, [j>=0.5 for j in valid_epoch_y_hat])\n",
        "\n",
        "  ############################################\n",
        "  ### print results per epoch\n",
        "  ############################################\n",
        "  print(f\" Epoch {epoch} | \" \\\n",
        "        f\"Train/Valid loss: {epoch_loss:.3f} / {valid_epoch_loss:.3f} | \" \\\n",
        "        f\"Train/Valid accuracy: {accuracy:.3f} / {valid_accuracy:.3f}\")"
      ]
    },
    {
      "cell_type": "code",
      "execution_count": null,
      "metadata": {},
      "outputs": [],
      "source": [
        "fig, ax1= plt.subplots(1,1)\n",
        "ax1.plot(train_loss_by_epoch, label=\"Train loss\")\n",
        "ax1.plot(valid_loss_by_epoch, label=\"Test loss\")\n",
        "ax1.legend()\n",
        "ax1.set_title(\"Loss by epoch\")\n",
        "ax1.set_xlabel(\"epoch\")\n",
        "ax1.set_ylabel(\"CE\")"
      ]
    }
  ],
  "metadata": {
    "colab": {
      "provenance": []
    },
    "kernelspec": {
      "display_name": "Python 3",
      "name": "python3"
    },
    "language_info": {
      "codemirror_mode": {
        "name": "ipython",
        "version": 3
      },
      "file_extension": ".py",
      "mimetype": "text/x-python",
      "name": "python",
      "nbconvert_exporter": "python",
      "pygments_lexer": "ipython3",
      "version": "3.9.7"
    }
  },
  "nbformat": 4,
  "nbformat_minor": 0
}
